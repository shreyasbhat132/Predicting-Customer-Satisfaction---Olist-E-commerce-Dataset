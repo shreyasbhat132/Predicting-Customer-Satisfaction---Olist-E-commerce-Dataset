{
 "cells": [
  {
   "cell_type": "code",
   "execution_count": 63,
   "id": "7665675c-2e4e-49a7-b156-018cbd21bfdc",
   "metadata": {},
   "outputs": [],
   "source": [
    "import pandas as pd\n",
    "from sklearn.model_selection import train_test_split,GridSearchCV\n",
    "from sklearn.preprocessing import MinMaxScaler,LabelEncoder,StandardScaler,Normalizer,OneHotEncoder,RobustScaler\n",
    "from sklearn.linear_model import LinearRegression, Lasso, Ridge, LassoCV, BayesianRidge\n",
    "from sklearn.feature_extraction.text import CountVectorizer\n",
    "from sklearn.compose import ColumnTransformer\n",
    "import scipy.sparse\n",
    "from scipy.sparse import hstack\n",
    "from sklearn.metrics import f1_score,accuracy_score,roc_auc_score, precision_score,recall_score\n",
    "from sklearn.linear_model import LogisticRegression\n",
    "from sklearn.naive_bayes import MultinomialNB\n",
    "from sklearn.tree import DecisionTreeClassifier\n",
    "from sklearn.ensemble import RandomForestClassifier,GradientBoostingClassifier\n",
    "import seaborn as sns\n",
    "from sklearn.metrics import roc_curve,auc, matthews_corrcoef\n",
    "import itertools\n",
    "import numpy as np\n",
    "from sklearn import metrics\n",
    "import matplotlib.pyplot as plt\n",
    "from sklearn.metrics import confusion_matrix"
   ]
  },
  {
   "cell_type": "code",
   "execution_count": 11,
   "id": "de750ae4-ac8f-422d-939a-3aa7876eb388",
   "metadata": {},
   "outputs": [],
   "source": [
    "from dmba import regressionSummary, exhaustive_search\n",
    "from dmba import backward_elimination, forward_selection, stepwise_selection\n",
    "from dmba import adjusted_r2_score, AIC_score, BIC_score"
   ]
  },
  {
   "cell_type": "code",
   "execution_count": 12,
   "id": "63b085d1-688f-4992-b4cd-d85423f658aa",
   "metadata": {},
   "outputs": [
    {
     "data": {
      "text/plain": [
       "(92359, 55)"
      ]
     },
     "execution_count": 12,
     "metadata": {},
     "output_type": "execute_result"
    }
   ],
   "source": [
    "data = pd.read_csv('encoded_data.csv')\n",
    "data.shape\n",
    "#data.info()"
   ]
  },
  {
   "cell_type": "markdown",
   "id": "6167b357-49c4-4ccf-9fa7-66900d0bfb1c",
   "metadata": {},
   "source": [
    "**Splitting Data into Training set and Test set**"
   ]
  },
  {
   "cell_type": "code",
   "execution_count": 13,
   "id": "503e0e15-92f9-4487-b134-6dcb4eb282bc",
   "metadata": {},
   "outputs": [
    {
     "name": "stdout",
     "output_type": "stream",
     "text": [
      "(61880, 54) (30479, 54) (61880,) (30479,)\n"
     ]
    }
   ],
   "source": [
    "X = data.drop('Score',axis=1)\n",
    "y = data.Score.values\n",
    "\n",
    "X_train, X_test, y_train, y_test = train_test_split(X, y, test_size = 0.33, stratify= y, random_state = 42)\n",
    "print(X_train.shape,X_test.shape,y_train.shape,y_test.shape)"
   ]
  },
  {
   "cell_type": "markdown",
   "id": "0630ee41-3d7c-4bff-8dd2-48159afeb2db",
   "metadata": {},
   "source": [
    "# **Linear Regression**"
   ]
  },
  {
   "cell_type": "markdown",
   "id": "2dfc4212-6389-409b-9365-539bb3dc0883",
   "metadata": {},
   "source": [
    "**Fitting the model**"
   ]
  },
  {
   "cell_type": "code",
   "execution_count": 5,
   "id": "afa9d1d2-34f7-4b9e-b279-df0eef2afdc2",
   "metadata": {},
   "outputs": [
    {
     "data": {
      "text/plain": [
       "LinearRegression()"
      ]
     },
     "execution_count": 5,
     "metadata": {},
     "output_type": "execute_result"
    }
   ],
   "source": [
    "lm = LinearRegression()\n",
    "lm.fit(X_train, y_train)"
   ]
  },
  {
   "cell_type": "code",
   "execution_count": 6,
   "id": "63ccc024-4254-4142-9fe8-04b9952f15be",
   "metadata": {},
   "outputs": [
    {
     "name": "stdout",
     "output_type": "stream",
     "text": [
      "                     Predictor   coefficient\n",
      "0                payment_value -2.264828e-02\n",
      "1                order_item_id  1.055800e+11\n",
      "2                        price  1.656729e-02\n",
      "3                freight_value -1.072151e-03\n",
      "4          product_name_lenght -5.086564e-03\n",
      "5   product_description_lenght  1.804398e-03\n",
      "6           product_photos_qty  1.570290e-03\n",
      "7             product_weight_g  1.164515e-03\n",
      "8                delivery_days -6.160138e-02\n",
      "9               estimated_days -9.449005e-03\n",
      "10                    ships_in -5.302429e-04\n",
      "11                arrival_time  2.814473e-01\n",
      "12           seller_popularity -5.836487e-04\n",
      "13           existing_customer -1.152859e-01\n",
      "14                    distance  1.190948e-02\n",
      "15               freight_ratio -5.722046e-03\n",
      "16                        size -1.055800e+11\n",
      "17         payment_type_boleto -4.097597e+10\n",
      "18    payment_type_credit_card -4.097597e+10\n",
      "19     payment_type_debit_card -4.097597e+10\n",
      "20        payment_type_voucher -4.097597e+10\n",
      "21      payment_installments_1 -4.585246e+07\n",
      "22      payment_installments_2 -4.585246e+07\n",
      "23           customer_state_BA -3.480665e+09\n",
      "24           customer_state_DF -3.480665e+09\n",
      "25           customer_state_ES -3.480665e+09\n",
      "26           customer_state_GO -3.480665e+09\n",
      "27           customer_state_MG -3.480665e+09\n",
      "28           customer_state_PR -3.480665e+09\n",
      "29           customer_state_RJ -3.480665e+09\n",
      "30           customer_state_RS -3.480665e+09\n",
      "31           customer_state_SC -3.480665e+09\n",
      "32           customer_state_SP -3.480665e+09\n",
      "33             seller_state_BA -1.063512e+10\n",
      "34             seller_state_DF -1.063512e+10\n",
      "35             seller_state_GO -1.063512e+10\n",
      "36             seller_state_MG -1.063512e+10\n",
      "37             seller_state_PE -1.063512e+10\n",
      "38             seller_state_PR -1.063512e+10\n",
      "39             seller_state_RJ -1.063512e+10\n",
      "40             seller_state_RS -1.063512e+10\n",
      "41             seller_state_SC -1.063512e+10\n",
      "42             seller_state_SP -1.063512e+10\n",
      "43       delivery_impression_0  2.338847e+10\n",
      "44       delivery_impression_1  2.338847e+10\n",
      "45       delivery_impression_2  2.338847e+10\n",
      "46  estimated_del_impression_0  6.014025e+09\n",
      "47  estimated_del_impression_1  6.014025e+09\n",
      "48  estimated_del_impression_2  6.014025e+09\n",
      "49           ship_impression_0 -3.857993e+10\n",
      "50           ship_impression_1 -3.857993e+10\n",
      "51           ship_impression_2 -3.857993e+10\n",
      "52               review_time_0 -7.585687e+09\n",
      "53               review_time_1 -7.585687e+09\n",
      "\n",
      "Regression statistics\n",
      "\n",
      "               Mean Error (ME) : 0.0000\n",
      "Root Mean Squared Error (RMSE) : 0.3313\n",
      "     Mean Absolute Error (MAE) : 0.2199\n"
     ]
    }
   ],
   "source": [
    "# print coefficients\n",
    "print(pd.DataFrame({'Predictor': X.columns, 'coefficient': lm.coef_}))\n",
    "\n",
    "# print performance measures (training data)\n",
    "regressionSummary(y_train, lm.predict(X_train))"
   ]
  },
  {
   "cell_type": "markdown",
   "id": "68d7da03-19c8-4ee7-9c94-ae915ef8b3ac",
   "metadata": {},
   "source": [
    "**Performance Evaluation**"
   ]
  },
  {
   "cell_type": "code",
   "execution_count": 27,
   "id": "cc8e246b-6c18-4aef-8a96-568871d1b9dc",
   "metadata": {},
   "outputs": [
    {
     "name": "stdout",
     "output_type": "stream",
     "text": [
      "    Predicted  Actual  Residual\n",
      "0    0.760544     1.0  0.239456\n",
      "1    0.903885     1.0  0.096115\n",
      "2    0.811081     0.0 -0.811081\n",
      "3    0.814041     1.0  0.185959\n",
      "4    0.969742     1.0  0.030258\n",
      "5    0.645599     1.0  0.354401\n",
      "6    0.881073     1.0  0.118927\n",
      "7    0.866196     1.0  0.133804\n",
      "8    0.961456     1.0  0.038544\n",
      "9    0.926407     1.0  0.073593\n",
      "10   0.650681     1.0  0.349319\n",
      "11   0.893417     1.0  0.106583\n",
      "12   0.959061     1.0  0.040939\n",
      "13   0.814087     0.0 -0.814087\n",
      "14   0.358566     0.0 -0.358566\n",
      "15   0.936371     1.0  0.063629\n",
      "16   0.854309     1.0  0.145691\n",
      "17   0.756927     1.0  0.243073\n",
      "18   0.903488     1.0  0.096512\n",
      "19   0.919113     1.0  0.080887\n",
      "\n",
      "Regression statistics\n",
      "\n",
      "               Mean Error (ME) : 0.0011\n",
      "Root Mean Squared Error (RMSE) : 0.3302\n",
      "     Mean Absolute Error (MAE) : 0.2193\n"
     ]
    }
   ],
   "source": [
    "# Predictions on a new set\n",
    "model_pred = lm.predict(X_test)\n",
    "\n",
    "result = pd.DataFrame({'Predicted': model_pred, 'Actual': y_test, 'Residual': y_test - model_pred})\n",
    "print(result.head(20))\n",
    "\n",
    "# Performance measures (validation data)\n",
    "regressionSummary(y_test, model_pred)"
   ]
  },
  {
   "cell_type": "markdown",
   "id": "f6a6da36-64b7-44aa-b0cc-23a61d927bb5",
   "metadata": {},
   "source": [
    "F1 Score"
   ]
  },
  {
   "cell_type": "code",
   "execution_count": 28,
   "id": "a00517a1-fc3d-4f67-8c88-2c2847199df0",
   "metadata": {},
   "outputs": [
    {
     "name": "stdout",
     "output_type": "stream",
     "text": [
      "F1 Score =  0.86578\n"
     ]
    }
   ],
   "source": [
    "print('F1 Score = ',round(f1_score(y_test, np.round(model_pred,0), average='micro'),5))"
   ]
  },
  {
   "cell_type": "code",
   "execution_count": 29,
   "id": "dc4589e4-aa72-4c83-8401-1dbfba430a6e",
   "metadata": {},
   "outputs": [
    {
     "name": "stdout",
     "output_type": "stream",
     "text": [
      "AIC 19058.78974275764\n"
     ]
    }
   ],
   "source": [
    "print('AIC', AIC_score(y_test, lm.predict(X_test), df = len(X_train.columns) + 1))"
   ]
  },
  {
   "cell_type": "code",
   "execution_count": 30,
   "id": "295ba70d-0d37-41a8-91ae-97c7710dc85f",
   "metadata": {},
   "outputs": [],
   "source": [
    "model_pred = lm.predict(X_test)\n",
    "all_residuals = y_test - model_pred"
   ]
  },
  {
   "cell_type": "code",
   "execution_count": 32,
   "id": "85971302-e289-441c-9536-67d05ea80a25",
   "metadata": {},
   "outputs": [
    {
     "name": "stdout",
     "output_type": "stream",
     "text": [
      "Percentage of datapoints with a residual in [-0.75, 0.75] = 90.6263\n"
     ]
    },
    {
     "data": {
      "image/png": "[encoded data removed]",
      "text/plain": [
       "<Figure size 432x288 with 1 Axes>"
      ]
     },
     "metadata": {
      "needs_background": "light"
     },
     "output_type": "display_data"
    }
   ],
   "source": [
    "# Percentage of datapoints with a residual in [-0.75, 0.75] \n",
    "k = round(len(all_residuals[(all_residuals > -0.75) & (all_residuals < 0.75)]) /len(all_residuals)*100,4)\n",
    "print(f'Percentage of datapoints with a residual in [-0.75, 0.75] = {k}')\n",
    "%matplotlib inline\n",
    "pd.DataFrame(all_residuals).hist(bins=25)\n",
    "plt.title('Residuals - Linear Regression')\n",
    "plt.show()"
   ]
  },
  {
   "cell_type": "markdown",
   "id": "2ce8bd7d-ff8e-46fa-89d1-05400920f5ba",
   "metadata": {},
   "source": [
    "**Backwards Elimination to remove unwanted predictors**"
   ]
  },
  {
   "cell_type": "code",
   "execution_count": 33,
   "id": "4ed82e40-74d7-451a-a6ed-529baa09b85d",
   "metadata": {},
   "outputs": [
    {
     "name": "stdout",
     "output_type": "stream",
     "text": [
      "Variables: payment_value, order_item_id, price, freight_value, product_name_lenght, product_description_lenght, product_photos_qty, product_weight_g, delivery_days, estimated_days, ships_in, arrival_time, seller_popularity, existing_customer, distance, freight_ratio, size, payment_type_boleto, payment_type_credit_card, payment_type_debit_card, payment_type_voucher, payment_installments_1, payment_installments_2, customer_state_BA, customer_state_DF, customer_state_ES, customer_state_GO, customer_state_MG, customer_state_PR, customer_state_RJ, customer_state_RS, customer_state_SC, customer_state_SP, seller_state_BA, seller_state_DF, seller_state_GO, seller_state_MG, seller_state_PE, seller_state_PR, seller_state_RJ, seller_state_RS, seller_state_SC, seller_state_SP, delivery_impression_0, delivery_impression_1, delivery_impression_2, estimated_del_impression_0, estimated_del_impression_1, estimated_del_impression_2, ship_impression_0, ship_impression_1, ship_impression_2, review_time_0, review_time_1\n",
      "Start: score=39010.69\n",
      "Step: score=39008.57, remove seller_state_PE\n",
      "Step: score=39006.62, remove payment_type_credit_card\n",
      "Step: score=39004.58, remove review_time_0\n",
      "Step: score=39002.59, remove customer_state_GO\n",
      "Step: score=39000.67, remove delivery_impression_0\n",
      "Step: score=38998.54, remove estimated_del_impression_1\n",
      "Step: score=38996.65, remove seller_state_DF\n",
      "Step: score=38994.66, remove estimated_del_impression_2\n",
      "Step: score=38992.68, remove payment_installments_2\n",
      "Step: score=38990.75, remove ship_impression_1\n",
      "Step: score=38988.72, remove customer_state_SC\n",
      "Step: score=38986.74, remove ship_impression_2\n",
      "Step: score=38984.71, remove payment_type_debit_card\n",
      "Step: score=38982.82, remove order_item_id\n",
      "Step: score=38980.93, remove ships_in\n",
      "Step: score=38979.18, remove seller_popularity\n",
      "Step: score=38977.48, remove customer_state_ES\n",
      "Step: score=38975.66, remove customer_state_RS\n",
      "Step: score=38974.03, remove review_time_1\n",
      "Step: score=38972.52, remove customer_state_BA\n",
      "Step: score=38971.47, remove freight_value\n",
      "Step: score=38970.24, remove product_weight_g\n",
      "Step: score=38969.24, remove product_photos_qty\n",
      "Step: score=38968.31, remove ship_impression_0\n",
      "Step: score=38967.81, remove estimated_del_impression_0\n",
      "Step: score=38967.81, remove seller_state_SP\n",
      "Step: score=38966.25, remove seller_state_RJ\n",
      "Step: score=38966.25, remove None\n",
      "['payment_value', 'price', 'product_name_lenght', 'product_description_lenght', 'delivery_days', 'estimated_days', 'arrival_time', 'existing_customer', 'distance', 'freight_ratio', 'size', 'payment_type_boleto', 'payment_type_voucher', 'payment_installments_1', 'customer_state_DF', 'customer_state_MG', 'customer_state_PR', 'customer_state_RJ', 'customer_state_SP', 'seller_state_BA', 'seller_state_GO', 'seller_state_MG', 'seller_state_PR', 'seller_state_RS', 'seller_state_SC', 'delivery_impression_1', 'delivery_impression_2']\n",
      "\n",
      "Regression statistics\n",
      "\n",
      "               Mean Error (ME) : 0.0011\n",
      "Root Mean Squared Error (RMSE) : 0.3302\n",
      "     Mean Absolute Error (MAE) : 0.2194\n"
     ]
    }
   ],
   "source": [
    "def train_model(variables):\n",
    "    lm = LinearRegression()\n",
    "    lm.fit(X_train[variables], y_train)\n",
    "    return lm\n",
    "\n",
    "def score_model(lm, variables):\n",
    "    return AIC_score(y_train, lm.predict(X_train[variables]), lm)\n",
    "\n",
    "allVariables = X_train.columns\n",
    "best_model, best_variables = backward_elimination(allVariables, train_model, \n",
    "                                 score_model, verbose=True)\n",
    "\n",
    "print(best_variables)\n",
    "\n",
    "regressionSummary(y_test, best_model.predict(X_test[best_variables]))"
   ]
  },
  {
   "cell_type": "markdown",
   "id": "46b7f6c6-d322-4a5b-bd45-fc0771514bc5",
   "metadata": {},
   "source": [
    "**Running LinearRegression on the dataset with reduced dimension -**"
   ]
  },
  {
   "cell_type": "code",
   "execution_count": 34,
   "id": "e8ec2cd9-6ec9-4c12-a152-4979bb91cd74",
   "metadata": {},
   "outputs": [],
   "source": [
    "X = data[['payment_value', 'price', 'product_name_lenght', 'product_description_lenght', 'delivery_days', \n",
    "          'estimated_days', 'arrival_time', 'existing_customer', 'distance', 'freight_ratio', 'size', \n",
    "          'payment_type_boleto', 'payment_type_voucher', 'payment_installments_2', 'customer_state_DF', \n",
    "          'customer_state_MG', 'customer_state_PR', 'customer_state_RJ', 'customer_state_SP', 'seller_state_DF', \n",
    "          'seller_state_PE', 'seller_state_RJ', 'seller_state_SP', 'delivery_impression_0', 'delivery_impression_2']]\n",
    "\n",
    "y = data.Score.values"
   ]
  },
  {
   "cell_type": "code",
   "execution_count": 35,
   "id": "c7ccc7e2-3c18-4877-92da-9480be89b107",
   "metadata": {},
   "outputs": [
    {
     "name": "stdout",
     "output_type": "stream",
     "text": [
      "(64651, 25) (27708, 25) (64651,) (27708,)\n"
     ]
    }
   ],
   "source": [
    "X_train, X_test, y_train, y_test = train_test_split(X, y, test_size = 0.3, stratify= y, random_state = 42)\n",
    "print(X_train.shape,X_test.shape,y_train.shape,y_test.shape)"
   ]
  },
  {
   "cell_type": "code",
   "execution_count": 36,
   "id": "8b73c42d-3ad4-4122-8ee9-b3baf12048e4",
   "metadata": {},
   "outputs": [
    {
     "data": {
      "text/plain": [
       "LinearRegression()"
      ]
     },
     "execution_count": 36,
     "metadata": {},
     "output_type": "execute_result"
    }
   ],
   "source": [
    "lm = LinearRegression()\n",
    "lm.fit(X_train, y_train)"
   ]
  },
  {
   "cell_type": "code",
   "execution_count": 37,
   "id": "028815a1-0d48-41e1-b588-e96de3a4c2ec",
   "metadata": {},
   "outputs": [
    {
     "name": "stdout",
     "output_type": "stream",
     "text": [
      "                     Predictor  coefficient\n",
      "0                payment_value    -0.023242\n",
      "1                        price     0.016961\n",
      "2          product_name_lenght    -0.005140\n",
      "3   product_description_lenght     0.002066\n",
      "4                delivery_days    -0.060052\n",
      "5               estimated_days    -0.007377\n",
      "6                 arrival_time     0.287591\n",
      "7            existing_customer    -0.113828\n",
      "8                     distance     0.011202\n",
      "9                freight_ratio    -0.006512\n",
      "10                        size     0.003376\n",
      "11         payment_type_boleto     0.008123\n",
      "12        payment_type_voucher     0.041539\n",
      "13      payment_installments_2     0.024849\n",
      "14           customer_state_DF    -0.028312\n",
      "15           customer_state_MG    -0.017412\n",
      "16           customer_state_PR    -0.014688\n",
      "17           customer_state_RJ    -0.029980\n",
      "18           customer_state_SP    -0.024912\n",
      "19             seller_state_DF    -0.035760\n",
      "20             seller_state_PE    -0.049012\n",
      "21             seller_state_RJ    -0.017843\n",
      "22             seller_state_SP    -0.021465\n",
      "23       delivery_impression_0    -0.137090\n",
      "24       delivery_impression_2    -0.022947\n",
      "\n",
      "Regression statistics\n",
      "\n",
      "               Mean Error (ME) : -0.0000\n",
      "Root Mean Squared Error (RMSE) : 0.3312\n",
      "     Mean Absolute Error (MAE) : 0.2197\n"
     ]
    }
   ],
   "source": [
    "# print coefficients\n",
    "print(pd.DataFrame({'Predictor': X.columns, 'coefficient': lm.coef_}))\n",
    "\n",
    "# print performance measures (training data)\n",
    "regressionSummary(y_train, lm.predict(X_train))"
   ]
  },
  {
   "cell_type": "markdown",
   "id": "d3ae3ddb-5e66-4a2a-b954-052d769256fc",
   "metadata": {},
   "source": [
    "**Performance Evaluation**"
   ]
  },
  {
   "cell_type": "code",
   "execution_count": 38,
   "id": "7c2e9439-1226-419e-9651-546f0ca56097",
   "metadata": {},
   "outputs": [
    {
     "name": "stdout",
     "output_type": "stream",
     "text": [
      "    Predicted  Actual  Residual\n",
      "0    0.318005     0.0 -0.318005\n",
      "1    0.941129     1.0  0.058871\n",
      "2    0.781006     1.0  0.218994\n",
      "3    0.851261     1.0  0.148739\n",
      "4    0.579696     1.0  0.420304\n",
      "5    0.880673     1.0  0.119327\n",
      "6    0.566640     1.0  0.433360\n",
      "7    0.880154     1.0  0.119846\n",
      "8    0.926864     1.0  0.073136\n",
      "9    0.943972     1.0  0.056028\n",
      "10   0.861795     1.0  0.138205\n",
      "11   0.765460     1.0  0.234540\n",
      "12   0.922963     1.0  0.077037\n",
      "13   0.907235     1.0  0.092765\n",
      "14   0.908969     1.0  0.091031\n",
      "15   0.902875     1.0  0.097125\n",
      "16   0.881937     0.0 -0.881937\n",
      "17   0.955095     1.0  0.044905\n",
      "18   0.914276     1.0  0.085724\n",
      "19   0.926472     1.0  0.073528\n",
      "\n",
      "Regression statistics\n",
      "\n",
      "               Mean Error (ME) : 0.0011\n",
      "Root Mean Squared Error (RMSE) : 0.3305\n",
      "     Mean Absolute Error (MAE) : 0.2194\n"
     ]
    }
   ],
   "source": [
    "# Predictions on a new set\n",
    "model_pred = lm.predict(X_test)\n",
    "\n",
    "result = pd.DataFrame({'Predicted': model_pred, 'Actual': y_test, 'Residual': y_test - model_pred})\n",
    "print(result.head(20))\n",
    "\n",
    "# Performance measures (validation data)\n",
    "regressionSummary(y_test, model_pred)"
   ]
  },
  {
   "cell_type": "markdown",
   "id": "cb1a768d-83f3-42af-85da-bf4ab9efd704",
   "metadata": {},
   "source": [
    "F1 Score"
   ]
  },
  {
   "cell_type": "code",
   "execution_count": 39,
   "id": "51182df9-a708-400c-b4db-6126b2530b20",
   "metadata": {},
   "outputs": [
    {
     "name": "stdout",
     "output_type": "stream",
     "text": [
      "F1 Score =  0.86498\n"
     ]
    }
   ],
   "source": [
    "print('F1 Score = ',round(f1_score(y_test, np.round(model_pred,0), average='micro'),5))"
   ]
  },
  {
   "cell_type": "code",
   "execution_count": 49,
   "id": "c58f21b7-a667-4636-8fc5-19a8f3276114",
   "metadata": {},
   "outputs": [
    {
     "name": "stdout",
     "output_type": "stream",
     "text": [
      "Percentage of datapoints with a residual in [-0.75, 0.75] = 90.5118\n"
     ]
    },
    {
     "data": {
      "image/png": "[encoded data removed]",
      "text/plain": [
       "<Figure size 432x288 with 1 Axes>"
      ]
     },
     "metadata": {
      "needs_background": "light"
     },
     "output_type": "display_data"
    }
   ],
   "source": [
    "model_pred = lm.predict(X_test)\n",
    "all_residuals = y_test - model_pred\n",
    "\n",
    "# Percentage of datapoints with a residual in [-0.75, 0.75] \n",
    "k = round(len(all_residuals[(all_residuals > -0.75) & (all_residuals < 0.75)]) /len(all_residuals)*100,4)\n",
    "print(f'Percentage of datapoints with a residual in [-0.75, 0.75] = {k}')\n",
    "%matplotlib inline\n",
    "pd.DataFrame(all_residuals).hist(bins=25)\n",
    "plt.title('Residuals - Linear Regression')\n",
    "plt.show()"
   ]
  },
  {
   "cell_type": "markdown",
   "id": "9949b32e-5555-441e-9234-d72b7e9a6710",
   "metadata": {},
   "source": [
    "**Linear Regression - Predictor Elimination**"
   ]
  },
  {
   "cell_type": "markdown",
   "id": "77d17c3d-9e1a-4f51-9ac6-48b9828eb15b",
   "metadata": {},
   "source": [
    "* The dimension of the predictor set was reduced by 53.7%\n",
    "* The results were same in both the cases\n",
    "* The model predicts the customer staisfaction with RMS Error of 0.3305\n",
    "* Residual values within the 75th quartile are very close for both the cases (difference of 0.03%)"
   ]
  },
  {
   "cell_type": "markdown",
   "id": "a84e4f1e-9798-4b37-8109-965b5f7f8d25",
   "metadata": {},
   "source": [
    "**Forward Elimination**"
   ]
  },
  {
   "cell_type": "code",
   "execution_count": 41,
   "id": "ceee7401-4af8-4e65-989c-dea393963a0b",
   "metadata": {},
   "outputs": [
    {
     "name": "stdout",
     "output_type": "stream",
     "text": [
      "Variables: payment_value, price, product_name_lenght, product_description_lenght, delivery_days, estimated_days, arrival_time, existing_customer, distance, freight_ratio, size, payment_type_boleto, payment_type_voucher, payment_installments_2, customer_state_DF, customer_state_MG, customer_state_PR, customer_state_RJ, customer_state_SP, seller_state_DF, seller_state_PE, seller_state_RJ, seller_state_SP, delivery_impression_0, delivery_impression_2\n",
      "Start: score=52741.31, constant\n",
      "Step: score=45309.37, add arrival_time\n",
      "Step: score=43288.99, add existing_customer\n",
      "Step: score=41769.09, add delivery_days\n",
      "Step: score=41481.19, add delivery_impression_0\n",
      "Step: score=41244.80, add payment_value\n",
      "Step: score=40900.15, add price\n",
      "Step: score=40844.78, add distance\n",
      "Step: score=40796.02, add payment_type_voucher\n",
      "Step: score=40761.87, add payment_installments_2\n",
      "Step: score=40741.65, add seller_state_SP\n",
      "Step: score=40721.14, add delivery_impression_2\n",
      "Step: score=40704.09, add customer_state_RJ\n",
      "Step: score=40694.72, add size\n",
      "Step: score=40686.92, add customer_state_SP\n",
      "Step: score=40677.30, add estimated_days\n",
      "Step: score=40668.30, add freight_ratio\n",
      "Step: score=40663.61, add customer_state_MG\n",
      "Step: score=40658.34, add customer_state_DF\n",
      "Step: score=40654.86, add product_name_lenght\n",
      "Step: score=40651.31, add payment_type_boleto\n",
      "Step: score=40648.03, add seller_state_RJ\n",
      "Step: score=40644.34, add customer_state_PR\n",
      "Step: score=40640.91, add seller_state_DF\n",
      "Step: score=40638.22, add seller_state_PE\n",
      "Step: score=40637.72, add product_description_lenght\n",
      "Step: score=40637.72, add None\n",
      "['arrival_time', 'existing_customer', 'delivery_days', 'delivery_impression_0', 'payment_value', 'price', 'distance', 'payment_type_voucher', 'payment_installments_2', 'seller_state_SP', 'delivery_impression_2', 'customer_state_RJ', 'size', 'customer_state_SP', 'estimated_days', 'freight_ratio', 'customer_state_MG', 'customer_state_DF', 'product_name_lenght', 'payment_type_boleto', 'seller_state_RJ', 'customer_state_PR', 'seller_state_DF', 'seller_state_PE', 'product_description_lenght']\n"
     ]
    }
   ],
   "source": [
    "def train_model(variables):\n",
    "    if len(variables) == 0:\n",
    "        return None\n",
    "    lm = LinearRegression()\n",
    "    lm.fit(X_train[variables], y_train)\n",
    "    return lm\n",
    "\n",
    "def score_model(lm, variables):\n",
    "    if len(variables) == 0:\n",
    "        return AIC_score(y_train, [y_train.mean()] * len(y_train), lm, df=1)\n",
    "    return AIC_score(y_train, lm.predict(X_train[variables]), lm)\n",
    "\n",
    "best_model, best_variables = forward_selection(X_train.columns, train_model, score_model, \n",
    "                                 verbose=True)\n",
    "print(best_variables)"
   ]
  },
  {
   "cell_type": "code",
   "execution_count": 66,
   "id": "2d3e1685-f097-4455-8aab-00a3d983254d",
   "metadata": {},
   "outputs": [],
   "source": [
    "X = data[['arrival_time', 'existing_customer', 'delivery_days', 'delivery_impression_0', 'payment_value', \n",
    "          'price', 'distance', 'payment_type_voucher', 'payment_installments_1', 'seller_state_SP', \n",
    "          'delivery_impression_1', 'customer_state_RJ', 'order_item_id', 'customer_state_SP', 'estimated_days', \n",
    "          'freight_ratio', 'customer_state_MG', 'customer_state_DF', 'product_name_lenght', 'payment_type_boleto', \n",
    "          'seller_state_RJ', 'customer_state_PR', 'seller_state_DF', 'seller_state_PE', 'product_description_lenght']]\n",
    "\n",
    "y = data.Score.values"
   ]
  },
  {
   "cell_type": "code",
   "execution_count": 67,
   "id": "9aa1a743-235d-4526-94d2-86816f6f54eb",
   "metadata": {},
   "outputs": [
    {
     "name": "stdout",
     "output_type": "stream",
     "text": [
      "(64651, 25) (27708, 25) (64651,) (27708,)\n"
     ]
    }
   ],
   "source": [
    "X_train, X_test, y_train, y_test = train_test_split(X, y, test_size = 0.3, stratify= y, random_state = 42)\n",
    "print(X_train.shape,X_test.shape,y_train.shape,y_test.shape)"
   ]
  },
  {
   "cell_type": "code",
   "execution_count": 68,
   "id": "25b73e7a-f250-4c42-86c2-e0f876fbf209",
   "metadata": {},
   "outputs": [
    {
     "data": {
      "text/plain": [
       "LinearRegression()"
      ]
     },
     "execution_count": 68,
     "metadata": {},
     "output_type": "execute_result"
    }
   ],
   "source": [
    "lm = LinearRegression()\n",
    "lm.fit(X_train, y_train)"
   ]
  },
  {
   "cell_type": "code",
   "execution_count": 69,
   "id": "1b9d8dda-c32e-4047-a0ac-2e069984ecf8",
   "metadata": {
    "tags": []
   },
   "outputs": [
    {
     "name": "stdout",
     "output_type": "stream",
     "text": [
      "                     Predictor  coefficient\n",
      "0                 arrival_time     0.287591\n",
      "1            existing_customer    -0.113828\n",
      "2                delivery_days    -0.060052\n",
      "3        delivery_impression_0    -0.114143\n",
      "4                payment_value    -0.023242\n",
      "5                        price     0.016961\n",
      "6                     distance     0.011202\n",
      "7         payment_type_voucher     0.041539\n",
      "8       payment_installments_1    -0.024849\n",
      "9              seller_state_SP    -0.021465\n",
      "10       delivery_impression_1     0.022947\n",
      "11           customer_state_RJ    -0.029980\n",
      "12               order_item_id     0.003376\n",
      "13           customer_state_SP    -0.024912\n",
      "14              estimated_days    -0.007377\n",
      "15               freight_ratio    -0.006512\n",
      "16           customer_state_MG    -0.017412\n",
      "17           customer_state_DF    -0.028312\n",
      "18         product_name_lenght    -0.005140\n",
      "19         payment_type_boleto     0.008123\n",
      "20             seller_state_RJ    -0.017843\n",
      "21           customer_state_PR    -0.014688\n",
      "22             seller_state_DF    -0.035760\n",
      "23             seller_state_PE    -0.049012\n",
      "24  product_description_lenght     0.002066\n",
      "\n",
      "Regression statistics\n",
      "\n",
      "               Mean Error (ME) : -0.0000\n",
      "Root Mean Squared Error (RMSE) : 0.3312\n",
      "     Mean Absolute Error (MAE) : 0.2197\n"
     ]
    }
   ],
   "source": [
    "# print coefficients\n",
    "print(pd.DataFrame({'Predictor': X.columns, 'coefficient': lm.coef_}))\n",
    "\n",
    "# print performance measures (training data)\n",
    "regressionSummary(y_train, lm.predict(X_train))"
   ]
  },
  {
   "cell_type": "markdown",
   "id": "6e34e7e7-2134-4cf7-99cc-a05c9950e211",
   "metadata": {},
   "source": [
    "**Performance Evaluation**"
   ]
  },
  {
   "cell_type": "code",
   "execution_count": 70,
   "id": "0c1fdf55-5c91-4717-aa65-204f336cea0b",
   "metadata": {},
   "outputs": [
    {
     "name": "stdout",
     "output_type": "stream",
     "text": [
      "    Predicted  Actual  Residual\n",
      "0    0.318005     0.0 -0.318005\n",
      "1    0.941129     1.0  0.058871\n",
      "2    0.781006     1.0  0.218994\n",
      "3    0.851261     1.0  0.148739\n",
      "4    0.579696     1.0  0.420304\n",
      "5    0.880673     1.0  0.119327\n",
      "6    0.566640     1.0  0.433360\n",
      "7    0.880154     1.0  0.119846\n",
      "8    0.926864     1.0  0.073136\n",
      "9    0.943972     1.0  0.056028\n",
      "10   0.861795     1.0  0.138205\n",
      "11   0.765460     1.0  0.234540\n",
      "12   0.922963     1.0  0.077037\n",
      "13   0.907235     1.0  0.092765\n",
      "14   0.908969     1.0  0.091031\n",
      "15   0.902875     1.0  0.097125\n",
      "16   0.881937     0.0 -0.881937\n",
      "17   0.955095     1.0  0.044905\n",
      "18   0.914276     1.0  0.085724\n",
      "19   0.926472     1.0  0.073528\n",
      "\n",
      "Regression statistics\n",
      "\n",
      "               Mean Error (ME) : 0.0011\n",
      "Root Mean Squared Error (RMSE) : 0.3305\n",
      "     Mean Absolute Error (MAE) : 0.2194\n"
     ]
    }
   ],
   "source": [
    "# Predictions on a new set\n",
    "model_pred = lm.predict(X_test)\n",
    "\n",
    "result = pd.DataFrame({'Predicted': model_pred, 'Actual': y_test, 'Residual': y_test - model_pred})\n",
    "print(result.head(20))\n",
    "\n",
    "# Performance measures (validation data)\n",
    "regressionSummary(y_test, model_pred)"
   ]
  },
  {
   "cell_type": "code",
   "execution_count": 71,
   "id": "5f39611c-a527-4be1-b2cd-d4c7a0b0b1a1",
   "metadata": {},
   "outputs": [
    {
     "name": "stdout",
     "output_type": "stream",
     "text": [
      "F1 Score =  0.86498\n"
     ]
    }
   ],
   "source": [
    "print('F1 Score = ',round(f1_score(y_test, np.round(model_pred,0), average='micro'),5))"
   ]
  },
  {
   "cell_type": "code",
   "execution_count": 73,
   "id": "697b9cc0-f567-47cd-8b1d-cf7414e87ad2",
   "metadata": {},
   "outputs": [
    {
     "data": {
      "text/plain": [
       "0.3560867550484809"
      ]
     },
     "execution_count": 73,
     "metadata": {},
     "output_type": "execute_result"
    }
   ],
   "source": [
    "matthews_corrcoef(y_test, np.round(model_pred,0))"
   ]
  },
  {
   "cell_type": "code",
   "execution_count": 48,
   "id": "d3cb0f3d-2d2b-4442-b51b-6a89b61af959",
   "metadata": {},
   "outputs": [
    {
     "name": "stdout",
     "output_type": "stream",
     "text": [
      "Percentage of datapoints with a residual in [-0.75, 0.75] = 90.5118\n"
     ]
    },
    {
     "data": {
      "image/png": "[encoded data removed]",
      "text/plain": [
       "<Figure size 432x288 with 1 Axes>"
      ]
     },
     "metadata": {
      "needs_background": "light"
     },
     "output_type": "display_data"
    }
   ],
   "source": [
    "model_pred = lm.predict(X_test)\n",
    "all_residuals = y_test - model_pred\n",
    "\n",
    "# Percentage of datapoints with a residual in [-0.75, 0.75] \n",
    "k = round(len(all_residuals[(all_residuals > -0.75) & (all_residuals < 0.75)]) /len(all_residuals)*100,4)\n",
    "print(f'Percentage of datapoints with a residual in [-0.75, 0.75] = {k}')\n",
    "%matplotlib inline\n",
    "pd.DataFrame(all_residuals).hist(bins=25)\n",
    "plt.title('Residuals - Linear Regression')\n",
    "plt.show()"
   ]
  },
  {
   "cell_type": "markdown",
   "id": "39715a59-e375-499b-980c-cc1294d25a1c",
   "metadata": {},
   "source": [
    "* The dimension of the predictor set was reduced by 53.7%\n",
    "* The results were exactly same in both the cases\n",
    "* The model predicts the customer staisfaction with RMS Error of 0.3305\n",
    "* Residual values within the 75th quartile are very close for both the cases (difference of 0.03%)"
   ]
  },
  {
   "cell_type": "markdown",
   "id": "0f6f9450-8754-4df8-8d7d-1d7daccd5e52",
   "metadata": {},
   "source": [
    "By comparing Forward and backward Elimination, we can see that there is no"
   ]
  },
  {
   "cell_type": "markdown",
   "id": "58409a24-12e6-4c6c-ab18-f145af746575",
   "metadata": {},
   "source": [
    "# **Lasso Regression**"
   ]
  },
  {
   "cell_type": "code",
   "execution_count": 14,
   "id": "7b36c8f7-f8cc-49ac-811f-f7d476f27be7",
   "metadata": {},
   "outputs": [
    {
     "data": {
      "text/plain": [
       "Lasso(alpha=1)"
      ]
     },
     "execution_count": 14,
     "metadata": {},
     "output_type": "execute_result"
    }
   ],
   "source": [
    "reg = Lasso(alpha=1)\n",
    "reg.fit(X_train, y_train)"
   ]
  },
  {
   "cell_type": "code",
   "execution_count": 20,
   "id": "71ec2de3-d81a-4864-8944-910f35f7da44",
   "metadata": {},
   "outputs": [
    {
     "name": "stdout",
     "output_type": "stream",
     "text": [
      "R squared training set 0.0\n",
      "R squared validation set -9.713785331655345e-09\n"
     ]
    }
   ],
   "source": [
    "print('R squared training set', reg.score(X_train, y_train)*100)\n",
    "print('R squared validation set', reg.score(X_test, y_test)*100)"
   ]
  },
  {
   "cell_type": "code",
   "execution_count": 23,
   "id": "13fd3cef-f963-4514-bbf8-470fa6ae1a74",
   "metadata": {},
   "outputs": [
    {
     "name": "stdout",
     "output_type": "stream",
     "text": [
      "MSE training set 0.13237\n",
      "MSE test set 0.13237\n"
     ]
    }
   ],
   "source": [
    "from sklearn.metrics import mean_squared_error\n",
    "\n",
    "# Training data\n",
    "pred_train = reg.predict(X_train)\n",
    "mse_train = mean_squared_error(y_train, pred_train)\n",
    "print('MSE training set', round(mse_train, 5))\n",
    "\n",
    "# Validation data\n",
    "pred = reg.predict(X_test)\n",
    "mse_test =mean_squared_error(y_test, pred)\n",
    "print('MSE test set', round(mse_test, 5))"
   ]
  },
  {
   "cell_type": "code",
   "execution_count": 26,
   "id": "3fcbbcb8-6801-4d05-829a-7540b7e7cbf8",
   "metadata": {},
   "outputs": [
    {
     "data": {
      "text/plain": [
       "Text(0.5, 1.0, 'Lasso coefficients as a function of lambda')"
      ]
     },
     "execution_count": 26,
     "metadata": {},
     "output_type": "execute_result"
    },
    {
     "data": {
      "image/png": "[encoded data removed]",
      "text/plain": [
       "<Figure size 1152x720 with 1 Axes>"
      ]
     },
     "metadata": {
      "needs_background": "light"
     },
     "output_type": "display_data"
    }
   ],
   "source": [
    "lambdas = np.linspace(0.01,1,100)\n",
    "lasso = Lasso(max_iter=1000000)\n",
    "coefs = []\n",
    "\n",
    "for a in lambdas:\n",
    "    lasso.set_params(alpha = a)\n",
    "    lasso.fit(X_train, y_train)\n",
    "    coefs.append(lasso.coef_)\n",
    " \n",
    "%matplotlib inline\n",
    "plt.figure(figsize=(16,10))\n",
    "ax = plt.gca()\n",
    "ax.plot(lambdas, coefs)\n",
    "ax.set_xscale('log')\n",
    "plt.axis('tight')\n",
    "plt.grid()\n",
    "plt.xlabel('lambda')\n",
    "plt.ylabel('Standardized Coefficients')\n",
    "plt.legend(lambdas,loc= 'upper right', bbox_to_anchor = (-0.1,1), title = 'Lambdas')\n",
    "plt.title('Lasso coefficients as a function of lambda')"
   ]
  },
  {
   "cell_type": "code",
   "execution_count": 52,
   "id": "897928c4-6d46-4265-82e3-c85635693663",
   "metadata": {},
   "outputs": [
    {
     "data": {
      "text/plain": [
       "LassoCV(cv=10, max_iter=1000000, random_state=0)"
      ]
     },
     "execution_count": 52,
     "metadata": {},
     "output_type": "execute_result"
    }
   ],
   "source": [
    "from sklearn.linear_model import LassoCV\n",
    "\n",
    "# Lasso with 10 fold cross-validation\n",
    "model = LassoCV(cv=10, random_state=0, max_iter=1000000)\n",
    "\n",
    "# Fit model\n",
    "model.fit(X_train, y_train)"
   ]
  },
  {
   "cell_type": "code",
   "execution_count": 53,
   "id": "e237624f-ec83-43b8-be16-0027058e0d46",
   "metadata": {},
   "outputs": [
    {
     "data": {
      "text/plain": [
       "0.00010762648502654433"
      ]
     },
     "execution_count": 53,
     "metadata": {},
     "output_type": "execute_result"
    }
   ],
   "source": [
    "# Best lambda\n",
    "model.alpha_"
   ]
  },
  {
   "cell_type": "code",
   "execution_count": 55,
   "id": "f5c75ddf-e15e-469e-9972-a2d4f6f0e79a",
   "metadata": {},
   "outputs": [
    {
     "data": {
      "text/plain": [
       "Lasso(alpha=0.00010762648502654433)"
      ]
     },
     "execution_count": 55,
     "metadata": {},
     "output_type": "execute_result"
    }
   ],
   "source": [
    "# Set best lambda\n",
    "LasMod = Lasso(alpha=model.alpha_)\n",
    "LasMod.fit(X_train, y_train)"
   ]
  },
  {
   "cell_type": "code",
   "execution_count": 56,
   "id": "d2e73136-8a35-415a-8d7e-822917252eac",
   "metadata": {},
   "outputs": [
    {
     "name": "stdout",
     "output_type": "stream",
     "text": [
      "R squared training set 17.13\n",
      "R squared test set 17.48\n"
     ]
    }
   ],
   "source": [
    "print('R squared training set', round(LasMod.score(X_train, y_train)*100, 2))\n",
    "print('R squared test set', round(LasMod.score(X_test, y_test)*100, 2))"
   ]
  },
  {
   "cell_type": "code",
   "execution_count": 57,
   "id": "d0f3aa64-68d8-4307-aba2-5acd93a1e0c9",
   "metadata": {},
   "outputs": [
    {
     "data": {
      "text/plain": [
       "(7.619371636262454e-05,\n",
       " 0.15202645089577255,\n",
       " 0.10269434772090201,\n",
       " 0.1386647158213543)"
      ]
     },
     "execution_count": 57,
     "metadata": {},
     "output_type": "execute_result"
    },
    {
     "data": {
      "image/png": "[encoded data removed]",
      "text/plain": [
       "<Figure size 720x576 with 1 Axes>"
      ]
     },
     "metadata": {
      "needs_background": "light"
     },
     "output_type": "display_data"
    }
   ],
   "source": [
    "plt.figure(figsize=(10,8))\n",
    "plt.semilogx(model.alphas_, model.mse_path_, \":\")\n",
    "plt.plot(\n",
    "    model.alphas_ ,\n",
    "    model.mse_path_.mean(axis=-1),\n",
    "    \"k\",\n",
    "    label=\"Average across the folds\",\n",
    "    linewidth=2,\n",
    ")\n",
    "plt.axvline(\n",
    "    model.alpha_, linestyle=\"--\", \n",
    "    color=\"k\", label=\"lambda: CV estimate\"\n",
    ")\n",
    "\n",
    "plt.legend()\n",
    "plt.xlabel(\"lamdas\")\n",
    "plt.ylabel(\"Mean square error\")\n",
    "plt.title(\"RMSE versus log(lambda)\")\n",
    "plt.axis(\"tight\")"
   ]
  },
  {
   "cell_type": "code",
   "execution_count": 58,
   "id": "960e159a-3480-4055-895c-eca70238f140",
   "metadata": {},
   "outputs": [
    {
     "name": "stdout",
     "output_type": "stream",
     "text": [
      "    Predicted  Actual  Residual\n",
      "0    0.321714     0.0 -0.321714\n",
      "1    0.942707     1.0  0.057293\n",
      "2    0.782822     1.0  0.217178\n",
      "3    0.852574     1.0  0.147426\n",
      "4    0.578688     1.0  0.421312\n",
      "5    0.880479     1.0  0.119521\n",
      "6    0.565672     1.0  0.434328\n",
      "7    0.877348     1.0  0.122652\n",
      "8    0.927572     1.0  0.072428\n",
      "9    0.943231     1.0  0.056769\n",
      "10   0.858188     1.0  0.141812\n",
      "11   0.763426     1.0  0.236574\n",
      "12   0.922245     1.0  0.077755\n",
      "13   0.911763     1.0  0.088237\n",
      "14   0.905522     1.0  0.094478\n",
      "15   0.906005     1.0  0.093995\n",
      "16   0.881357     0.0 -0.881357\n",
      "17   0.954199     1.0  0.045801\n",
      "18   0.914555     1.0  0.085445\n",
      "19   0.926016     1.0  0.073984\n",
      "\n",
      "Regression statistics\n",
      "\n",
      "               Mean Error (ME) : 0.0011\n",
      "Root Mean Squared Error (RMSE) : 0.3305\n",
      "     Mean Absolute Error (MAE) : 0.2196\n"
     ]
    }
   ],
   "source": [
    "# Predictions on a new set\n",
    "LasMod_pred = LasMod.predict(X_test)\n",
    "\n",
    "result = pd.DataFrame({'Predicted': LasMod_pred, 'Actual': y_test, 'Residual': y_test - LasMod_pred})\n",
    "print(result.head(20))\n",
    "\n",
    "# Performance measures (validation data)\n",
    "regressionSummary(y_test, LasMod_pred)"
   ]
  },
  {
   "cell_type": "code",
   "execution_count": 59,
   "id": "1120ea75-2d61-4f9b-824a-1173292ea5cb",
   "metadata": {},
   "outputs": [],
   "source": [
    "LasMod_pred = LasMod.predict(X_test)\n",
    "all_residuals_Las = y_test - LasMod_pred"
   ]
  },
  {
   "cell_type": "code",
   "execution_count": 60,
   "id": "68a6b5cc-aef7-49bb-a5b7-8b2540e79a97",
   "metadata": {},
   "outputs": [
    {
     "name": "stdout",
     "output_type": "stream",
     "text": [
      "Percentage of datapoints with a residual in [-0.75, 0.75] = 90.519\n"
     ]
    },
    {
     "data": {
      "image/png": "[encoded data removed]",
      "text/plain": [
       "<Figure size 432x288 with 1 Axes>"
      ]
     },
     "metadata": {
      "needs_background": "light"
     },
     "output_type": "display_data"
    }
   ],
   "source": [
    "# Percentage of datapoints with a residual in [-0.75, 0.75] \n",
    "k = round(len(all_residuals_Las[(all_residuals_Las > -0.75) & (all_residuals_Las < 0.75)]) /len(all_residuals_Las)*100,4)\n",
    "print(f'Percentage of datapoints with a residual in [-0.75, 0.75] = {k}')\n",
    "\n",
    "pd.DataFrame(all_residuals_Las).hist(bins=30)\n",
    "plt.title('Residuals - Lasso Regression')\n",
    "plt.show()"
   ]
  },
  {
   "cell_type": "code",
   "execution_count": 61,
   "id": "4a19dc91-f1a1-49c3-b657-b181864fae0f",
   "metadata": {},
   "outputs": [
    {
     "name": "stdout",
     "output_type": "stream",
     "text": [
      "F1 Score =  0.86509\n"
     ]
    }
   ],
   "source": [
    "print('F1 Score = ',round(f1_score(y_test, np.round(LasMod_pred,0), average='micro'),5))"
   ]
  },
  {
   "cell_type": "code",
   "execution_count": 62,
   "id": "d0e125e3-dd4a-4382-bb0e-6df1f518e635",
   "metadata": {},
   "outputs": [
    {
     "name": "stdout",
     "output_type": "stream",
     "text": [
      "AIC 17333.486882792502\n"
     ]
    }
   ],
   "source": [
    "print('AIC', AIC_score(y_test, LasMod_pred, df = len(X_train.columns) + 1))"
   ]
  },
  {
   "cell_type": "code",
   "execution_count": 65,
   "id": "2c38f31c-15e7-48f2-abfa-49b13e45fc33",
   "metadata": {},
   "outputs": [
    {
     "data": {
      "text/plain": [
       "0.356449268421339"
      ]
     },
     "execution_count": 65,
     "metadata": {},
     "output_type": "execute_result"
    }
   ],
   "source": [
    "matthews_corrcoef(y_test, np.round(LasMod_pred,0))"
   ]
  },
  {
   "cell_type": "markdown",
   "id": "d90cc7f8-31e1-4f06-8158-065d9ee2d82b",
   "metadata": {},
   "source": [
    "# **Regularization of the Regression Model**"
   ]
  },
  {
   "cell_type": "code",
   "execution_count": 49,
   "id": "98e07cb3-e132-42a3-84bf-fb8a2c4608bd",
   "metadata": {},
   "outputs": [
    {
     "name": "stdout",
     "output_type": "stream",
     "text": [
      "\n",
      "Regression statistics\n",
      "\n",
      "               Mean Error (ME) : 0.0011\n",
      "Root Mean Squared Error (RMSE) : 0.3305\n",
      "     Mean Absolute Error (MAE) : 0.2195\n",
      "Lasso-CV chosen regularization:  4.71589554033958e-07\n"
     ]
    },
    {
     "data": {
      "text/html": [
       "<div>\n",
       "<style scoped>\n",
       "    .dataframe tbody tr th:only-of-type {\n",
       "        vertical-align: middle;\n",
       "    }\n",
       "\n",
       "    .dataframe tbody tr th {\n",
       "        vertical-align: top;\n",
       "    }\n",
       "\n",
       "    .dataframe thead th {\n",
       "        text-align: right;\n",
       "    }\n",
       "</style>\n",
       "<table border=\"1\" class=\"dataframe\">\n",
       "  <thead>\n",
       "    <tr style=\"text-align: right;\">\n",
       "      <th></th>\n",
       "      <th>Coefficients</th>\n",
       "    </tr>\n",
       "  </thead>\n",
       "  <tbody>\n",
       "    <tr>\n",
       "      <th>0</th>\n",
       "      <td>0.287324</td>\n",
       "    </tr>\n",
       "    <tr>\n",
       "      <th>1</th>\n",
       "      <td>-0.113774</td>\n",
       "    </tr>\n",
       "    <tr>\n",
       "      <th>2</th>\n",
       "      <td>-0.059614</td>\n",
       "    </tr>\n",
       "    <tr>\n",
       "      <th>3</th>\n",
       "      <td>-0.114962</td>\n",
       "    </tr>\n",
       "    <tr>\n",
       "      <th>4</th>\n",
       "      <td>-0.023013</td>\n",
       "    </tr>\n",
       "    <tr>\n",
       "      <th>5</th>\n",
       "      <td>0.016766</td>\n",
       "    </tr>\n",
       "    <tr>\n",
       "      <th>6</th>\n",
       "      <td>0.011216</td>\n",
       "    </tr>\n",
       "    <tr>\n",
       "      <th>7</th>\n",
       "      <td>0.041066</td>\n",
       "    </tr>\n",
       "    <tr>\n",
       "      <th>8</th>\n",
       "      <td>-0.024503</td>\n",
       "    </tr>\n",
       "    <tr>\n",
       "      <th>9</th>\n",
       "      <td>-0.020881</td>\n",
       "    </tr>\n",
       "    <tr>\n",
       "      <th>10</th>\n",
       "      <td>0.022196</td>\n",
       "    </tr>\n",
       "    <tr>\n",
       "      <th>11</th>\n",
       "      <td>-0.028638</td>\n",
       "    </tr>\n",
       "    <tr>\n",
       "      <th>12</th>\n",
       "      <td>0.003273</td>\n",
       "    </tr>\n",
       "    <tr>\n",
       "      <th>13</th>\n",
       "      <td>-0.023258</td>\n",
       "    </tr>\n",
       "    <tr>\n",
       "      <th>14</th>\n",
       "      <td>-0.007061</td>\n",
       "    </tr>\n",
       "    <tr>\n",
       "      <th>15</th>\n",
       "      <td>-0.006336</td>\n",
       "    </tr>\n",
       "    <tr>\n",
       "      <th>16</th>\n",
       "      <td>-0.015877</td>\n",
       "    </tr>\n",
       "    <tr>\n",
       "      <th>17</th>\n",
       "      <td>-0.026327</td>\n",
       "    </tr>\n",
       "    <tr>\n",
       "      <th>18</th>\n",
       "      <td>-0.004911</td>\n",
       "    </tr>\n",
       "    <tr>\n",
       "      <th>19</th>\n",
       "      <td>0.007750</td>\n",
       "    </tr>\n",
       "    <tr>\n",
       "      <th>20</th>\n",
       "      <td>-0.016688</td>\n",
       "    </tr>\n",
       "    <tr>\n",
       "      <th>21</th>\n",
       "      <td>-0.012955</td>\n",
       "    </tr>\n",
       "    <tr>\n",
       "      <th>22</th>\n",
       "      <td>-0.034067</td>\n",
       "    </tr>\n",
       "    <tr>\n",
       "      <th>23</th>\n",
       "      <td>-0.046593</td>\n",
       "    </tr>\n",
       "    <tr>\n",
       "      <th>24</th>\n",
       "      <td>0.001987</td>\n",
       "    </tr>\n",
       "  </tbody>\n",
       "</table>\n",
       "</div>"
      ],
      "text/plain": [
       "    Coefficients\n",
       "0       0.287324\n",
       "1      -0.113774\n",
       "2      -0.059614\n",
       "3      -0.114962\n",
       "4      -0.023013\n",
       "5       0.016766\n",
       "6       0.011216\n",
       "7       0.041066\n",
       "8      -0.024503\n",
       "9      -0.020881\n",
       "10      0.022196\n",
       "11     -0.028638\n",
       "12      0.003273\n",
       "13     -0.023258\n",
       "14     -0.007061\n",
       "15     -0.006336\n",
       "16     -0.015877\n",
       "17     -0.026327\n",
       "18     -0.004911\n",
       "19      0.007750\n",
       "20     -0.016688\n",
       "21     -0.012955\n",
       "22     -0.034067\n",
       "23     -0.046593\n",
       "24      0.001987"
      ]
     },
     "execution_count": 49,
     "metadata": {},
     "output_type": "execute_result"
    }
   ],
   "source": [
    "lasso_cv = LassoCV(normalize=True, cv=5)\n",
    "lasso_cv.fit(X_train, y_train)\n",
    "regressionSummary(y_test, lasso_cv.predict(X_test))\n",
    "print('Lasso-CV chosen regularization: ', lasso_cv.alpha_)\n",
    "pd.DataFrame(lasso_cv.coef_, columns = ['Coefficients'])"
   ]
  },
  {
   "cell_type": "code",
   "execution_count": 50,
   "id": "f7fb321a-ef6c-4720-9439-264dabdc5839",
   "metadata": {},
   "outputs": [
    {
     "name": "stdout",
     "output_type": "stream",
     "text": [
      "\n",
      "Regression statistics\n",
      "\n",
      "               Mean Error (ME) : 0.0005\n",
      "Root Mean Squared Error (RMSE) : 0.3356\n",
      "     Mean Absolute Error (MAE) : 0.2356\n"
     ]
    }
   ],
   "source": [
    "ridge = Ridge(normalize=True, alpha=1)\n",
    "ridge.fit(X_train, y_train)\n",
    "regressionSummary(y_test, ridge.predict(X_test))"
   ]
  },
  {
   "cell_type": "code",
   "execution_count": 51,
   "id": "98126db3-be8b-4b87-a4c8-89c4fa8a4b0b",
   "metadata": {},
   "outputs": [
    {
     "name": "stdout",
     "output_type": "stream",
     "text": [
      "\n",
      "Regression statistics\n",
      "\n",
      "               Mean Error (ME) : 0.0011\n",
      "Root Mean Squared Error (RMSE) : 0.3305\n",
      "     Mean Absolute Error (MAE) : 0.2195\n",
      "Bayesian ridge chosen regularization:  0.0026366438471804943\n"
     ]
    },
    {
     "data": {
      "text/html": [
       "<div>\n",
       "<style scoped>\n",
       "    .dataframe tbody tr th:only-of-type {\n",
       "        vertical-align: middle;\n",
       "    }\n",
       "\n",
       "    .dataframe tbody tr th {\n",
       "        vertical-align: top;\n",
       "    }\n",
       "\n",
       "    .dataframe thead th {\n",
       "        text-align: right;\n",
       "    }\n",
       "</style>\n",
       "<table border=\"1\" class=\"dataframe\">\n",
       "  <thead>\n",
       "    <tr style=\"text-align: right;\">\n",
       "      <th></th>\n",
       "      <th>Coefficients</th>\n",
       "    </tr>\n",
       "  </thead>\n",
       "  <tbody>\n",
       "    <tr>\n",
       "      <th>0</th>\n",
       "      <td>0.286828</td>\n",
       "    </tr>\n",
       "    <tr>\n",
       "      <th>1</th>\n",
       "      <td>-0.113681</td>\n",
       "    </tr>\n",
       "    <tr>\n",
       "      <th>2</th>\n",
       "      <td>-0.059591</td>\n",
       "    </tr>\n",
       "    <tr>\n",
       "      <th>3</th>\n",
       "      <td>-0.115656</td>\n",
       "    </tr>\n",
       "    <tr>\n",
       "      <th>4</th>\n",
       "      <td>-0.023048</td>\n",
       "    </tr>\n",
       "    <tr>\n",
       "      <th>5</th>\n",
       "      <td>0.016761</td>\n",
       "    </tr>\n",
       "    <tr>\n",
       "      <th>6</th>\n",
       "      <td>0.011188</td>\n",
       "    </tr>\n",
       "    <tr>\n",
       "      <th>7</th>\n",
       "      <td>0.041471</td>\n",
       "    </tr>\n",
       "    <tr>\n",
       "      <th>8</th>\n",
       "      <td>-0.024819</td>\n",
       "    </tr>\n",
       "    <tr>\n",
       "      <th>9</th>\n",
       "      <td>-0.021382</td>\n",
       "    </tr>\n",
       "    <tr>\n",
       "      <th>10</th>\n",
       "      <td>0.022279</td>\n",
       "    </tr>\n",
       "    <tr>\n",
       "      <th>11</th>\n",
       "      <td>-0.029755</td>\n",
       "    </tr>\n",
       "    <tr>\n",
       "      <th>12</th>\n",
       "      <td>0.003364</td>\n",
       "    </tr>\n",
       "    <tr>\n",
       "      <th>13</th>\n",
       "      <td>-0.024536</td>\n",
       "    </tr>\n",
       "    <tr>\n",
       "      <th>14</th>\n",
       "      <td>-0.007350</td>\n",
       "    </tr>\n",
       "    <tr>\n",
       "      <th>15</th>\n",
       "      <td>-0.006547</td>\n",
       "    </tr>\n",
       "    <tr>\n",
       "      <th>16</th>\n",
       "      <td>-0.017121</td>\n",
       "    </tr>\n",
       "    <tr>\n",
       "      <th>17</th>\n",
       "      <td>-0.028009</td>\n",
       "    </tr>\n",
       "    <tr>\n",
       "      <th>18</th>\n",
       "      <td>-0.005120</td>\n",
       "    </tr>\n",
       "    <tr>\n",
       "      <th>19</th>\n",
       "      <td>0.008019</td>\n",
       "    </tr>\n",
       "    <tr>\n",
       "      <th>20</th>\n",
       "      <td>-0.017667</td>\n",
       "    </tr>\n",
       "    <tr>\n",
       "      <th>21</th>\n",
       "      <td>-0.014408</td>\n",
       "    </tr>\n",
       "    <tr>\n",
       "      <th>22</th>\n",
       "      <td>-0.035592</td>\n",
       "    </tr>\n",
       "    <tr>\n",
       "      <th>23</th>\n",
       "      <td>-0.048752</td>\n",
       "    </tr>\n",
       "    <tr>\n",
       "      <th>24</th>\n",
       "      <td>0.002080</td>\n",
       "    </tr>\n",
       "  </tbody>\n",
       "</table>\n",
       "</div>"
      ],
      "text/plain": [
       "    Coefficients\n",
       "0       0.286828\n",
       "1      -0.113681\n",
       "2      -0.059591\n",
       "3      -0.115656\n",
       "4      -0.023048\n",
       "5       0.016761\n",
       "6       0.011188\n",
       "7       0.041471\n",
       "8      -0.024819\n",
       "9      -0.021382\n",
       "10      0.022279\n",
       "11     -0.029755\n",
       "12      0.003364\n",
       "13     -0.024536\n",
       "14     -0.007350\n",
       "15     -0.006547\n",
       "16     -0.017121\n",
       "17     -0.028009\n",
       "18     -0.005120\n",
       "19      0.008019\n",
       "20     -0.017667\n",
       "21     -0.014408\n",
       "22     -0.035592\n",
       "23     -0.048752\n",
       "24      0.002080"
      ]
     },
     "execution_count": 51,
     "metadata": {},
     "output_type": "execute_result"
    }
   ],
   "source": [
    "bayesianRidge = BayesianRidge(normalize=True)\n",
    "bayesianRidge.fit(X_train, y_train)\n",
    "regressionSummary(y_test, bayesianRidge.predict(X_test))\n",
    "alpha = bayesianRidge.lambda_ / bayesianRidge.alpha_\n",
    "print('Bayesian ridge chosen regularization: ', alpha)\n",
    "\n",
    "pd.DataFrame(bayesianRidge.coef_, columns = ['Coefficients'])"
   ]
  },
  {
   "cell_type": "code",
   "execution_count": null,
   "id": "e50fe937-fe65-49e9-b8c1-7dfd8f6a174d",
   "metadata": {},
   "outputs": [],
   "source": []
  }
 ],
 "metadata": {
  "kernelspec": {
   "display_name": "Python 3 (ipykernel)",
   "language": "python",
   "name": "python3"
  },
  "language_info": {
   "codemirror_mode": {
    "name": "ipython",
    "version": 3
   },
   "file_extension": ".py",
   "mimetype": "text/x-python",
   "name": "python",
   "nbconvert_exporter": "python",
   "pygments_lexer": "ipython3",
   "version": "3.9.7"
  }
 },
 "nbformat": 4,
 "nbformat_minor": 5
}
