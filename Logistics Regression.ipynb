{
 "cells": [
  {
   "cell_type": "markdown",
   "id": "2150374a-4846-42d2-8f90-894033365631",
   "metadata": {},
   "source": [
    "# **Logistics Regression**"
   ]
  },
  {
   "cell_type": "code",
   "execution_count": 1,
   "id": "7880065f-2b4c-47ba-b986-6055c113d063",
   "metadata": {},
   "outputs": [],
   "source": [
    "import pandas as pd\n",
    "from sklearn import preprocessing, metrics\n",
    "from sklearn.model_selection import train_test_split\n",
    "from sklearn.neighbors import NearestNeighbors, KNeighborsClassifier\n",
    "import matplotlib.pylab as plt\n",
    "from sklearn.model_selection import train_test_split,GridSearchCV\n",
    "from sklearn.preprocessing import MinMaxScaler,LabelEncoder,StandardScaler,Normalizer,OneHotEncoder,RobustScaler\n",
    "from sklearn.compose import ColumnTransformer\n",
    "from sklearn.metrics import f1_score,accuracy_score,roc_auc_score,precision_recall_fscore_support\n",
    "from sklearn.linear_model import LogisticRegression\n",
    "from sklearn.naive_bayes import MultinomialNB\n",
    "from sklearn.tree import DecisionTreeClassifier\n",
    "from sklearn.ensemble import RandomForestClassifier,GradientBoostingClassifier\n",
    "import seaborn as sns\n",
    "from sklearn.metrics import roc_curve,auc,confusion_matrix,matthews_corrcoef\n",
    "import itertools\n",
    "import numpy as np"
   ]
  },
  {
   "cell_type": "code",
   "execution_count": 2,
   "id": "29ff00cc-30d4-4d3d-a9a4-2a616eca7401",
   "metadata": {},
   "outputs": [
    {
     "name": "stdout",
     "output_type": "stream",
     "text": [
      "no display found. Using non-interactive Agg backend\n"
     ]
    }
   ],
   "source": [
    "from dmba import regressionSummary, exhaustive_search\n",
    "from dmba import backward_elimination, forward_selection, stepwise_selection\n",
    "from dmba import adjusted_r2_score, AIC_score, BIC_score\n",
    "from dmba import classificationSummary, gainsChart, liftChart"
   ]
  },
  {
   "cell_type": "code",
   "execution_count": 3,
   "id": "da8ab1ab-4936-4d4c-ba1e-33a5dc739979",
   "metadata": {},
   "outputs": [
    {
     "data": {
      "text/plain": [
       "(92359, 55)"
      ]
     },
     "execution_count": 3,
     "metadata": {},
     "output_type": "execute_result"
    }
   ],
   "source": [
    "data = pd.read_csv('encoded_data.csv')\n",
    "data.shape\n",
    "#data.info()"
   ]
  },
  {
   "cell_type": "code",
   "execution_count": 4,
   "id": "16a458e9-5490-4353-b1f5-c362863d2952",
   "metadata": {},
   "outputs": [],
   "source": [
    "X = data.drop('Score',axis=1)\n",
    "y = data.Score.values"
   ]
  },
  {
   "cell_type": "code",
   "execution_count": 5,
   "id": "ac56b5c8-d202-4a11-b7d0-dd49d3677a39",
   "metadata": {},
   "outputs": [],
   "source": [
    "#splitting of the data\n",
    "X_train, X_test, y_train, y_test = train_test_split(X,y,test_size=0.33, random_state=42)"
   ]
  },
  {
   "cell_type": "code",
   "execution_count": null,
   "id": "8de677be-de2c-4af9-92cd-36f0e36e0c31",
   "metadata": {},
   "outputs": [
    {
     "data": {
      "text/plain": [
       "GridSearchCV(estimator=LogisticRegression(max_iter=100000),\n",
       "             param_grid={'C': [0.0001, 0.001, 0.01, 0.1, 1, 10, 20, 30]},\n",
       "             refit=False, return_train_score=True, scoring='roc_auc')"
      ]
     },
     "execution_count": 6,
     "metadata": {},
     "output_type": "execute_result"
    }
   ],
   "source": [
    "LogiReg = LogisticRegression(max_iter=100000,solver='lbfgs', penalty = 'l2')\n",
    "\n",
    "param = {'C': [0.0001,0.001,0.01,0.1,1,10,20,30]}\n",
    "\n",
    "LR = GridSearchCV(LogiReg,param,cv= None,refit=False,return_train_score=True,scoring='roc_auc')\n",
    "LR.fit(X_train,y_train)"
   ]
  },
  {
   "cell_type": "code",
   "execution_count": null,
   "id": "581ddf04-56bf-4c4c-a8b5-bb788349eb7e",
   "metadata": {},
   "outputs": [
    {
     "data": {
      "text/plain": [
       "{'C': 0.1}"
      ]
     },
     "execution_count": 7,
     "metadata": {},
     "output_type": "execute_result"
    }
   ],
   "source": [
    "LR.best_params_"
   ]
  },
  {
   "cell_type": "code",
   "execution_count": 19,
   "id": "71f87431-fcda-4904-89b0-d0f95cb7bae0",
   "metadata": {},
   "outputs": [
    {
     "data": {
      "text/plain": [
       "LogisticRegression(C=0.1, max_iter=100000)"
      ]
     },
     "execution_count": 19,
     "metadata": {},
     "output_type": "execute_result"
    }
   ],
   "source": [
    "clf = LogisticRegression(C= 0.1 ,max_iter=100000,solver='lbfgs', penalty = 'l2')\n",
    "clf.fit(X_train,y_train)"
   ]
  },
  {
   "cell_type": "code",
   "execution_count": 20,
   "id": "a0bce997-af8d-4aa9-8a33-351ef561e4b7",
   "metadata": {},
   "outputs": [
    {
     "name": "stdout",
     "output_type": "stream",
     "text": [
      "intercept  1.2174392223630321\n"
     ]
    },
    {
     "data": {
      "text/html": [
       "<div>\n",
       "<style scoped>\n",
       "    .dataframe tbody tr th:only-of-type {\n",
       "        vertical-align: middle;\n",
       "    }\n",
       "\n",
       "    .dataframe tbody tr th {\n",
       "        vertical-align: top;\n",
       "    }\n",
       "\n",
       "    .dataframe thead th {\n",
       "        text-align: right;\n",
       "    }\n",
       "</style>\n",
       "<table border=\"1\" class=\"dataframe\">\n",
       "  <thead>\n",
       "    <tr style=\"text-align: right;\">\n",
       "      <th></th>\n",
       "      <th>coeff</th>\n",
       "    </tr>\n",
       "  </thead>\n",
       "  <tbody>\n",
       "    <tr>\n",
       "      <th>payment_value</th>\n",
       "      <td>-0.199095</td>\n",
       "    </tr>\n",
       "    <tr>\n",
       "      <th>order_item_id</th>\n",
       "      <td>0.011940</td>\n",
       "    </tr>\n",
       "    <tr>\n",
       "      <th>price</th>\n",
       "      <td>0.143969</td>\n",
       "    </tr>\n",
       "    <tr>\n",
       "      <th>freight_value</th>\n",
       "      <td>0.001282</td>\n",
       "    </tr>\n",
       "    <tr>\n",
       "      <th>product_name_lenght</th>\n",
       "      <td>-0.068618</td>\n",
       "    </tr>\n",
       "    <tr>\n",
       "      <th>product_description_lenght</th>\n",
       "      <td>0.024290</td>\n",
       "    </tr>\n",
       "    <tr>\n",
       "      <th>product_photos_qty</th>\n",
       "      <td>0.016325</td>\n",
       "    </tr>\n",
       "    <tr>\n",
       "      <th>product_weight_g</th>\n",
       "      <td>0.000007</td>\n",
       "    </tr>\n",
       "    <tr>\n",
       "      <th>delivery_days</th>\n",
       "      <td>-0.456670</td>\n",
       "    </tr>\n",
       "    <tr>\n",
       "      <th>estimated_days</th>\n",
       "      <td>-0.107808</td>\n",
       "    </tr>\n",
       "    <tr>\n",
       "      <th>ships_in</th>\n",
       "      <td>-0.006691</td>\n",
       "    </tr>\n",
       "    <tr>\n",
       "      <th>arrival_time</th>\n",
       "      <td>1.405536</td>\n",
       "    </tr>\n",
       "    <tr>\n",
       "      <th>seller_popularity</th>\n",
       "      <td>-0.006919</td>\n",
       "    </tr>\n",
       "    <tr>\n",
       "      <th>existing_customer</th>\n",
       "      <td>-0.879629</td>\n",
       "    </tr>\n",
       "    <tr>\n",
       "      <th>distance</th>\n",
       "      <td>0.085206</td>\n",
       "    </tr>\n",
       "    <tr>\n",
       "      <th>freight_ratio</th>\n",
       "      <td>-0.061810</td>\n",
       "    </tr>\n",
       "    <tr>\n",
       "      <th>size</th>\n",
       "      <td>0.011940</td>\n",
       "    </tr>\n",
       "    <tr>\n",
       "      <th>payment_type_boleto</th>\n",
       "      <td>-0.048345</td>\n",
       "    </tr>\n",
       "    <tr>\n",
       "      <th>payment_type_credit_card</th>\n",
       "      <td>-0.129709</td>\n",
       "    </tr>\n",
       "    <tr>\n",
       "      <th>payment_type_debit_card</th>\n",
       "      <td>0.053126</td>\n",
       "    </tr>\n",
       "    <tr>\n",
       "      <th>payment_type_voucher</th>\n",
       "      <td>0.111309</td>\n",
       "    </tr>\n",
       "    <tr>\n",
       "      <th>payment_installments_1</th>\n",
       "      <td>-0.085884</td>\n",
       "    </tr>\n",
       "    <tr>\n",
       "      <th>payment_installments_2</th>\n",
       "      <td>0.072266</td>\n",
       "    </tr>\n",
       "    <tr>\n",
       "      <th>customer_state_BA</th>\n",
       "      <td>-0.016668</td>\n",
       "    </tr>\n",
       "    <tr>\n",
       "      <th>customer_state_DF</th>\n",
       "      <td>-0.132226</td>\n",
       "    </tr>\n",
       "    <tr>\n",
       "      <th>customer_state_ES</th>\n",
       "      <td>0.136883</td>\n",
       "    </tr>\n",
       "    <tr>\n",
       "      <th>customer_state_GO</th>\n",
       "      <td>0.136881</td>\n",
       "    </tr>\n",
       "    <tr>\n",
       "      <th>customer_state_MG</th>\n",
       "      <td>-0.027651</td>\n",
       "    </tr>\n",
       "    <tr>\n",
       "      <th>customer_state_PR</th>\n",
       "      <td>-0.000197</td>\n",
       "    </tr>\n",
       "    <tr>\n",
       "      <th>customer_state_RJ</th>\n",
       "      <td>-0.151204</td>\n",
       "    </tr>\n",
       "    <tr>\n",
       "      <th>customer_state_RS</th>\n",
       "      <td>0.057487</td>\n",
       "    </tr>\n",
       "    <tr>\n",
       "      <th>customer_state_SC</th>\n",
       "      <td>0.094379</td>\n",
       "    </tr>\n",
       "    <tr>\n",
       "      <th>customer_state_SP</th>\n",
       "      <td>-0.111301</td>\n",
       "    </tr>\n",
       "    <tr>\n",
       "      <th>seller_state_BA</th>\n",
       "      <td>0.330980</td>\n",
       "    </tr>\n",
       "    <tr>\n",
       "      <th>seller_state_DF</th>\n",
       "      <td>-0.231310</td>\n",
       "    </tr>\n",
       "    <tr>\n",
       "      <th>seller_state_GO</th>\n",
       "      <td>0.309885</td>\n",
       "    </tr>\n",
       "    <tr>\n",
       "      <th>seller_state_MG</th>\n",
       "      <td>0.006339</td>\n",
       "    </tr>\n",
       "    <tr>\n",
       "      <th>seller_state_PE</th>\n",
       "      <td>-0.249994</td>\n",
       "    </tr>\n",
       "    <tr>\n",
       "      <th>seller_state_PR</th>\n",
       "      <td>0.018667</td>\n",
       "    </tr>\n",
       "    <tr>\n",
       "      <th>seller_state_RJ</th>\n",
       "      <td>-0.124046</td>\n",
       "    </tr>\n",
       "    <tr>\n",
       "      <th>seller_state_RS</th>\n",
       "      <td>0.186276</td>\n",
       "    </tr>\n",
       "    <tr>\n",
       "      <th>seller_state_SC</th>\n",
       "      <td>-0.075549</td>\n",
       "    </tr>\n",
       "    <tr>\n",
       "      <th>seller_state_SP</th>\n",
       "      <td>-0.184867</td>\n",
       "    </tr>\n",
       "    <tr>\n",
       "      <th>delivery_impression_0</th>\n",
       "      <td>-0.294257</td>\n",
       "    </tr>\n",
       "    <tr>\n",
       "      <th>delivery_impression_1</th>\n",
       "      <td>0.189638</td>\n",
       "    </tr>\n",
       "    <tr>\n",
       "      <th>delivery_impression_2</th>\n",
       "      <td>0.091000</td>\n",
       "    </tr>\n",
       "    <tr>\n",
       "      <th>estimated_del_impression_0</th>\n",
       "      <td>0.047299</td>\n",
       "    </tr>\n",
       "    <tr>\n",
       "      <th>estimated_del_impression_1</th>\n",
       "      <td>-0.040627</td>\n",
       "    </tr>\n",
       "    <tr>\n",
       "      <th>estimated_del_impression_2</th>\n",
       "      <td>-0.020290</td>\n",
       "    </tr>\n",
       "    <tr>\n",
       "      <th>ship_impression_0</th>\n",
       "      <td>0.068200</td>\n",
       "    </tr>\n",
       "    <tr>\n",
       "      <th>ship_impression_1</th>\n",
       "      <td>-0.016446</td>\n",
       "    </tr>\n",
       "    <tr>\n",
       "      <th>ship_impression_2</th>\n",
       "      <td>-0.065372</td>\n",
       "    </tr>\n",
       "    <tr>\n",
       "      <th>review_time_0</th>\n",
       "      <td>-0.018347</td>\n",
       "    </tr>\n",
       "    <tr>\n",
       "      <th>review_time_1</th>\n",
       "      <td>0.004729</td>\n",
       "    </tr>\n",
       "  </tbody>\n",
       "</table>\n",
       "</div>"
      ],
      "text/plain": [
       "                               coeff\n",
       "payment_value              -0.199095\n",
       "order_item_id               0.011940\n",
       "price                       0.143969\n",
       "freight_value               0.001282\n",
       "product_name_lenght        -0.068618\n",
       "product_description_lenght  0.024290\n",
       "product_photos_qty          0.016325\n",
       "product_weight_g            0.000007\n",
       "delivery_days              -0.456670\n",
       "estimated_days             -0.107808\n",
       "ships_in                   -0.006691\n",
       "arrival_time                1.405536\n",
       "seller_popularity          -0.006919\n",
       "existing_customer          -0.879629\n",
       "distance                    0.085206\n",
       "freight_ratio              -0.061810\n",
       "size                        0.011940\n",
       "payment_type_boleto        -0.048345\n",
       "payment_type_credit_card   -0.129709\n",
       "payment_type_debit_card     0.053126\n",
       "payment_type_voucher        0.111309\n",
       "payment_installments_1     -0.085884\n",
       "payment_installments_2      0.072266\n",
       "customer_state_BA          -0.016668\n",
       "customer_state_DF          -0.132226\n",
       "customer_state_ES           0.136883\n",
       "customer_state_GO           0.136881\n",
       "customer_state_MG          -0.027651\n",
       "customer_state_PR          -0.000197\n",
       "customer_state_RJ          -0.151204\n",
       "customer_state_RS           0.057487\n",
       "customer_state_SC           0.094379\n",
       "customer_state_SP          -0.111301\n",
       "seller_state_BA             0.330980\n",
       "seller_state_DF            -0.231310\n",
       "seller_state_GO             0.309885\n",
       "seller_state_MG             0.006339\n",
       "seller_state_PE            -0.249994\n",
       "seller_state_PR             0.018667\n",
       "seller_state_RJ            -0.124046\n",
       "seller_state_RS             0.186276\n",
       "seller_state_SC            -0.075549\n",
       "seller_state_SP            -0.184867\n",
       "delivery_impression_0      -0.294257\n",
       "delivery_impression_1       0.189638\n",
       "delivery_impression_2       0.091000\n",
       "estimated_del_impression_0  0.047299\n",
       "estimated_del_impression_1 -0.040627\n",
       "estimated_del_impression_2 -0.020290\n",
       "ship_impression_0           0.068200\n",
       "ship_impression_1          -0.016446\n",
       "ship_impression_2          -0.065372\n",
       "review_time_0              -0.018347\n",
       "review_time_1               0.004729"
      ]
     },
     "execution_count": 20,
     "metadata": {},
     "output_type": "execute_result"
    }
   ],
   "source": [
    "print('intercept ', clf.intercept_[0])\n",
    "pd.DataFrame({'coeff': clf.coef_[0]}, index=X.columns)"
   ]
  },
  {
   "cell_type": "code",
   "execution_count": 21,
   "id": "db62ac73-e6be-43e7-b67a-bafe2fac0ec7",
   "metadata": {},
   "outputs": [
    {
     "name": "stdout",
     "output_type": "stream",
     "text": [
      "AIC 25761.143203561383\n"
     ]
    }
   ],
   "source": [
    "print('AIC', AIC_score(y_test, clf.predict(X_test), df = len(X_train.columns) + 1))"
   ]
  },
  {
   "cell_type": "code",
   "execution_count": 22,
   "id": "778f9320-54a3-4ec4-a5a8-a4fc93c7ffcb",
   "metadata": {},
   "outputs": [
    {
     "data": {
      "text/plain": [
       "0.34872796392542843"
      ]
     },
     "execution_count": 22,
     "metadata": {},
     "output_type": "execute_result"
    }
   ],
   "source": [
    "matthews_corrcoef(y_test, clf.predict(X_test))"
   ]
  },
  {
   "cell_type": "code",
   "execution_count": 23,
   "id": "ac2f7d89-56c0-4adf-83c7-5fbb5110b12d",
   "metadata": {},
   "outputs": [
    {
     "data": {
      "image/png": "[encoded data removed]",
      "text/plain": [
       "<Figure size 576x432 with 1 Axes>"
      ]
     },
     "metadata": {
      "needs_background": "light"
     },
     "output_type": "display_data"
    },
    {
     "name": "stdout",
     "output_type": "stream",
     "text": [
      "Best AUC for the model is 0.7519 \n"
     ]
    }
   ],
   "source": [
    "#predicted value of y probabilities\n",
    "y_pred_train = clf.predict_proba(X_train)\n",
    "y_pred_test = clf.predict_proba(X_test)\n",
    "\n",
    "#predicted values of Y labels\n",
    "pred_label_train = clf.predict(X_train)\n",
    "pred_label_test = clf.predict(X_test)\n",
    "\n",
    "#Confusion Matrix\n",
    "cf_matrix_train = confusion_matrix(y_train,pred_label_train)\n",
    "cf_matrix_test = confusion_matrix(y_test,pred_label_test)\n",
    "\n",
    "fpr_train,tpr_train,threshold_train = roc_curve(y_train,y_pred_train[:,1])\n",
    "fpr_test,tpr_test,threshold_test = roc_curve(y_test,y_pred_test[:,1])\n",
    "\n",
    "train_auc = round(auc(fpr_train,tpr_train),4)\n",
    "test_auc = round(auc(fpr_test,tpr_test),4)\n",
    "\n",
    "%matplotlib inline\n",
    "plt.figure(figsize=(8,6))\n",
    "plt.plot(fpr_train,tpr_train,color='red',label='train-auc = '+str(train_auc))\n",
    "plt.plot(fpr_test,tpr_test,color='blue',label='test-auc = '+str(test_auc))\n",
    "plt.plot(np.array([0,1]),np.array([0,1]),color='black',label='random model auc = '+str(0.5))\n",
    "plt.xlabel('False Positive Rate(FPR)')\n",
    "plt.ylabel('True Positive Rate(TPR)')\n",
    "plt.title('ROC curve')\n",
    "plt.legend()\n",
    "plt.show()\n",
    "print('Best AUC for the model is {} '.format(test_auc))"
   ]
  },
  {
   "cell_type": "code",
   "execution_count": 24,
   "id": "27aaa11c-7650-4fff-9143-6b1843aa9803",
   "metadata": {},
   "outputs": [
    {
     "name": "stdout",
     "output_type": "stream",
     "text": [
      "    actual      p(0)      p(1)  predicted\n",
      "20     1.0  0.195301  0.804699        1.0\n",
      "21     1.0  0.097290  0.902710        1.0\n",
      "22     1.0  0.241948  0.758052        1.0\n",
      "23     0.0  0.065683  0.934317        1.0\n",
      "24     1.0  0.049606  0.950394        1.0\n",
      "25     1.0  0.084518  0.915482        1.0\n",
      "26     1.0  0.068928  0.931072        1.0\n",
      "27     1.0  0.114261  0.885739        1.0\n",
      "28     0.0  0.825367  0.174633        0.0\n",
      "29     1.0  0.064275  0.935725        1.0\n"
     ]
    }
   ],
   "source": [
    "LR_pred = clf.predict(X_test)\n",
    "LR_proba = clf.predict_proba(X_test)\n",
    "LR_result = pd.DataFrame({'actual': y_test, \n",
    "                             'p(0)': [p[0] for p in LR_proba],\n",
    "                             'p(1)': [p[1] for p in LR_proba],\n",
    "                             'predicted': LR_pred })\n",
    "# display four different cases\n",
    "cases = [i for i in range(20,30,1)]\n",
    "print(LR_result.loc[cases])"
   ]
  },
  {
   "cell_type": "markdown",
   "id": "9ca140de-11b2-42b1-bd6e-e567a02d09d9",
   "metadata": {},
   "source": [
    "**LiftChart and GainsChart**"
   ]
  },
  {
   "cell_type": "code",
   "execution_count": 25,
   "id": "f5c3f7f2-d295-48d3-94ae-0c9c10321fce",
   "metadata": {},
   "outputs": [
    {
     "data": {
      "image/png": "[encoded data removed]",
      "text/plain": [
       "<Figure size 720x288 with 2 Axes>"
      ]
     },
     "metadata": {
      "needs_background": "light"
     },
     "output_type": "display_data"
    }
   ],
   "source": [
    "df = LR_result.sort_values(by=['p(1)'], ascending=False)\n",
    "fig, axes = plt.subplots(nrows=1, ncols=2, figsize=(10, 4))\n",
    "gainsChart(df.actual, ax=axes[0])\n",
    "liftChart(df['p(1)'], title=False, ax=axes[1])\n",
    "plt.show()"
   ]
  },
  {
   "cell_type": "markdown",
   "id": "ed99fc13-4ff3-45f7-8f33-136d3255de0e",
   "metadata": {},
   "source": [
    "**Confusion Matrix - Training Data**"
   ]
  },
  {
   "cell_type": "code",
   "execution_count": 26,
   "id": "4593e219-4d09-474b-b287-a524c5899746",
   "metadata": {},
   "outputs": [
    {
     "data": {
      "image/png": "[encoded data removed]",
      "text/plain": [
       "<Figure size 720x576 with 2 Axes>"
      ]
     },
     "metadata": {
      "needs_background": "light"
     },
     "output_type": "display_data"
    }
   ],
   "source": [
    "plt.figure(figsize=(10,8))\n",
    "group_names = ['True Neg','False Pos','False Neg','True Pos']\n",
    "group_counts = ['{0:0.0f}'.format(value) for value in cf_matrix_train.flatten()]\n",
    "group_percentages = ['{0:.2%}'.format(value) for value in cf_matrix_train.flatten()/np.sum(cf_matrix_train)]\n",
    "labels = [f'{v1}\\n{v2}\\n{v3}' for v1, v2, v3 in zip(group_names,group_counts,group_percentages)]\n",
    "\n",
    "labels = np.asarray(labels).reshape(2,2)\n",
    "sns.heatmap(cf_matrix_train/np.sum(cf_matrix_train), annot= labels ,fmt= '', cmap='Blues')\n",
    "plt.title('Confusion Matrix - Training Data - Model: Logistics Regression')\n",
    "plt.show()"
   ]
  },
  {
   "cell_type": "markdown",
   "id": "1e25dc4d-2bbe-4127-b977-5807a8e5acfe",
   "metadata": {},
   "source": [
    "**Confusion Matrix - Test Data**"
   ]
  },
  {
   "cell_type": "code",
   "execution_count": 27,
   "id": "2c4d3ea9-4c4e-4334-85b6-26e81918329c",
   "metadata": {},
   "outputs": [
    {
     "data": {
      "image/png": "[encoded data removed]",
      "text/plain": [
       "<Figure size 720x576 with 2 Axes>"
      ]
     },
     "metadata": {
      "needs_background": "light"
     },
     "output_type": "display_data"
    }
   ],
   "source": [
    "plt.figure(figsize=(10,8))\n",
    "group_names = ['True Neg','False Pos','False Neg','True Pos']\n",
    "group_counts = ['{0:0.0f}'.format(value) for value in cf_matrix_test.flatten()]\n",
    "group_percentages = ['{0:.2%}'.format(value) for value in cf_matrix_test.flatten()/np.sum(cf_matrix_test)]\n",
    "labels = [f'{v1}\\n{v2}\\n{v3}' for v1, v2, v3 in zip(group_names,group_counts,group_percentages)]\n",
    "\n",
    "labels = np.asarray(labels).reshape(2,2)\n",
    "sns.heatmap(cf_matrix_test/np.sum(cf_matrix_test), annot= labels ,fmt= '', cmap='Blues')\n",
    "plt.title('Confusion Matrix - Test Data - Model: Logistics Regression')\n",
    "plt.show()"
   ]
  },
  {
   "cell_type": "code",
   "execution_count": 28,
   "id": "5449fe20-2c5f-4420-b841-f3213505d753",
   "metadata": {},
   "outputs": [
    {
     "name": "stdout",
     "output_type": "stream",
     "text": [
      "\n",
      "Regression statistics\n",
      "\n",
      "               Mean Error (ME) : -0.1031\n",
      "Root Mean Squared Error (RMSE) : 0.3682\n",
      "     Mean Absolute Error (MAE) : 0.1356\n"
     ]
    }
   ],
   "source": [
    "regressionSummary(y_train, clf.predict(X_train))"
   ]
  },
  {
   "cell_type": "code",
   "execution_count": 29,
   "id": "b7fac6ba-5e3e-4809-824a-e1d97adde6ee",
   "metadata": {},
   "outputs": [
    {
     "name": "stdout",
     "output_type": "stream",
     "text": [
      "F1 Score =  0.86417\n"
     ]
    }
   ],
   "source": [
    "print('F1 Score = ',round(f1_score(y_test, np.round(clf.predict(X_test),0), average='micro'),5))"
   ]
  },
  {
   "cell_type": "code",
   "execution_count": 30,
   "id": "3d2133fe-c9ea-456f-aab1-4a3dcb767ab0",
   "metadata": {},
   "outputs": [
    {
     "data": {
      "text/plain": [
       "0.34872796392542843"
      ]
     },
     "execution_count": 30,
     "metadata": {},
     "output_type": "execute_result"
    }
   ],
   "source": [
    "matthews_corrcoef(y_test, np.round(clf.predict(X_test),0))"
   ]
  },
  {
   "cell_type": "code",
   "execution_count": 18,
   "id": "6ad4c747-4753-41eb-ac4e-b0f00c1b33f1",
   "metadata": {},
   "outputs": [
    {
     "ename": "SyntaxError",
     "evalue": "invalid syntax (451039580.py, line 3)",
     "output_type": "error",
     "traceback": [
      "\u001b[0;36m  File \u001b[0;32m\"/var/folders/kn/2sx0_n_132vcg918lkzrd7l80000gn/T/ipykernel_72631/451039580.py\"\u001b[0;36m, line \u001b[0;32m3\u001b[0m\n\u001b[0;31m    plt.title('Actual vs Precited value for outcome')\u001b[0m\n\u001b[0m    ^\u001b[0m\n\u001b[0;31mSyntaxError\u001b[0m\u001b[0;31m:\u001b[0m invalid syntax\n"
     ]
    }
   ],
   "source": [
    "ax = sns.kdeplot(y_test, color=\"r\", label=\"Actual Value\")\n",
    "sns.kdeplot(np.round(clf.predict(X_test), color=\"b\", label=\"Predicted Values\", ax=ax)\n",
    "plt.title('Actual vs Precited value for outcome')\n",
    "plt.legend()\n",
    "plt.show()"
   ]
  },
  {
   "cell_type": "code",
   "execution_count": null,
   "id": "d67ce1ed-4f19-477c-9a89-c9f06ac8d4f3",
   "metadata": {},
   "outputs": [],
   "source": []
  },
  {
   "cell_type": "code",
   "execution_count": null,
   "id": "1f89ef08-beb4-48bb-ba16-52548a548010",
   "metadata": {},
   "outputs": [],
   "source": []
  }
 ],
 "metadata": {
  "kernelspec": {
   "display_name": "Python 3 (ipykernel)",
   "language": "python",
   "name": "python3"
  },
  "language_info": {
   "codemirror_mode": {
    "name": "ipython",
    "version": 3
   },
   "file_extension": ".py",
   "mimetype": "text/x-python",
   "name": "python",
   "nbconvert_exporter": "python",
   "pygments_lexer": "ipython3",
   "version": "3.9.7"
  }
 },
 "nbformat": 4,
 "nbformat_minor": 5
}
